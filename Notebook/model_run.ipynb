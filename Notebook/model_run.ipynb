{
 "cells": [
  {
   "cell_type": "code",
   "execution_count": 1,
   "metadata": {},
   "outputs": [],
   "source": [
    "import pandas as pd\n",
    "import numpy as np"
   ]
  },
  {
   "cell_type": "code",
   "execution_count": 2,
   "metadata": {},
   "outputs": [],
   "source": [
    "response = pd.read_csv('./data/response.csv')\n",
    "response=response.drop(['id'],axis = 1)\n",
    "response= response.drop_duplicates()\n",
    "\n",
    "hotel = pd.read_csv('./data/hotel.csv')\n",
    "\n",
    "req = pd.read_csv('./data/request.csv')\n",
    "req = req.drop(['created_at'],axis = 1)\n",
    "req = req.drop_duplicates()\n",
    "\n",
    "avatar = pd.read_csv('./data/avatar.csv')\n",
    "sample = pd.read_csv('./data/sample.csv')"
   ]
  },
  {
   "cell_type": "code",
   "execution_count": 4,
   "metadata": {},
   "outputs": [
    {
     "data": {
      "text/html": [
       "<div>\n",
       "<style scoped>\n",
       "    .dataframe tbody tr th:only-of-type {\n",
       "        vertical-align: middle;\n",
       "    }\n",
       "\n",
       "    .dataframe tbody tr th {\n",
       "        vertical-align: top;\n",
       "    }\n",
       "\n",
       "    .dataframe thead th {\n",
       "        text-align: right;\n",
       "    }\n",
       "</style>\n",
       "<table border=\"1\" class=\"dataframe\">\n",
       "  <thead>\n",
       "    <tr style=\"text-align: right;\">\n",
       "      <th></th>\n",
       "      <th>id</th>\n",
       "      <th>avatar_id</th>\n",
       "      <th>language</th>\n",
       "      <th>date</th>\n",
       "      <th>mobile</th>\n",
       "      <th>city_num</th>\n",
       "    </tr>\n",
       "  </thead>\n",
       "  <tbody>\n",
       "    <tr>\n",
       "      <th>0</th>\n",
       "      <td>1</td>\n",
       "      <td>1</td>\n",
       "      <td>french</td>\n",
       "      <td>2</td>\n",
       "      <td>True</td>\n",
       "      <td>1</td>\n",
       "    </tr>\n",
       "    <tr>\n",
       "      <th>1</th>\n",
       "      <td>2</td>\n",
       "      <td>2</td>\n",
       "      <td>italian</td>\n",
       "      <td>40</td>\n",
       "      <td>False</td>\n",
       "      <td>1</td>\n",
       "    </tr>\n",
       "    <tr>\n",
       "      <th>2</th>\n",
       "      <td>3</td>\n",
       "      <td>2</td>\n",
       "      <td>italian</td>\n",
       "      <td>40</td>\n",
       "      <td>False</td>\n",
       "      <td>1</td>\n",
       "    </tr>\n",
       "    <tr>\n",
       "      <th>3</th>\n",
       "      <td>4</td>\n",
       "      <td>2</td>\n",
       "      <td>italian</td>\n",
       "      <td>30</td>\n",
       "      <td>False</td>\n",
       "      <td>1</td>\n",
       "    </tr>\n",
       "    <tr>\n",
       "      <th>4</th>\n",
       "      <td>5</td>\n",
       "      <td>2</td>\n",
       "      <td>italian</td>\n",
       "      <td>30</td>\n",
       "      <td>False</td>\n",
       "      <td>1</td>\n",
       "    </tr>\n",
       "  </tbody>\n",
       "</table>\n",
       "</div>"
      ],
      "text/plain": [
       "   id  avatar_id language  date  mobile  city_num\n",
       "0   1          1   french     2    True         1\n",
       "1   2          2  italian    40   False         1\n",
       "2   3          2  italian    40   False         1\n",
       "3   4          2  italian    30   False         1\n",
       "4   5          2  italian    30   False         1"
      ]
     },
     "execution_count": 4,
     "metadata": {},
     "output_type": "execute_result"
    }
   ],
   "source": [
    "# Request in a city\n",
    "reqt = req[['avatar_id','language','city','date']]\n",
    "reqt = reqt.drop_duplicates()\n",
    "reqt['city_num'] = reqt.groupby(['avatar_id','city']).cumcount()+1\n",
    "req = req.join(reqt.set_index(['avatar_id','language','city','date']), on=['avatar_id','language','city','date'],how='left', rsuffix='_right')\n",
    "req = req.drop(['city'],axis = 1)\n",
    "req.head()"
   ]
  },
  {
   "cell_type": "code",
   "execution_count": 4,
   "metadata": {},
   "outputs": [],
   "source": [
    "def dummy(data,col,prefix=''):\n",
    "    df = data\n",
    "    dd = pd.get_dummies(data[col],prefix=prefix)\n",
    "    df = pd.concat([df,dd],axis = 1)\n",
    "    df = df.drop([col],axis =1)\n",
    "    return df"
   ]
  },
  {
   "cell_type": "code",
   "execution_count": 5,
   "metadata": {},
   "outputs": [],
   "source": [
    "hotel = dummy(hotel,'brand',prefix='b_')\n",
    "hotel = dummy(hotel,'city',prefix='c_')\n",
    "hotel = dummy(hotel,'group',prefix='g_')"
   ]
  },
  {
   "cell_type": "code",
   "execution_count": 6,
   "metadata": {},
   "outputs": [],
   "source": [
    "req = dummy(req,'language',prefix='l_')"
   ]
  },
  {
   "cell_type": "code",
   "execution_count": 7,
   "metadata": {},
   "outputs": [],
   "source": [
    "response = response.join(req.set_index('id'), on='request_id', validate='m:1')\n",
    "response = response.join(hotel.set_index('id'), on='hotel_id', validate='m:1')\n",
    "response[['mobile','parking','pool']]=response[['mobile','parking','pool']].astype(int)\n",
    "response = response.sort_values(by='request_id')"
   ]
  },
  {
   "cell_type": "code",
   "execution_count": 8,
   "metadata": {},
   "outputs": [],
   "source": [
    "response = response[['request_id','avatar_id', 'date','mobile','city_num','hotel_id', 'price', 'stock', \n",
    "        'parking', 'pool', 'children_policy','l__austrian', 'l__belgian', 'l__bulgarian',\n",
    "       'l__croatian', 'l__cypriot', 'l__czech', 'l__danish', 'l__dutch',\n",
    "       'l__estonian', 'l__finnish', 'l__french', 'l__german', 'l__greek',\n",
    "       'l__hungarian', 'l__irish', 'l__italian', 'l__latvian', 'l__lithuanian',\n",
    "       'l__luxembourgish', 'l__maltese', 'l__polish', 'l__portuguese',\n",
    "       'l__romanian', 'l__slovakian', 'l__slovene', 'l__spanish', 'l__swedish','b__8 Premium', 'b__Ardisson',\n",
    "       'b__Boss Western', 'b__Chill Garden Inn', 'b__Corlton', 'b__CourtYord',\n",
    "       'b__Ibas', 'b__Independant', 'b__J.Halliday Inn', 'b__Marcure',\n",
    "       'b__Morriot', 'b__Navatel', 'b__Quadrupletree', 'b__Royal Lotus',\n",
    "       'b__Safitel', 'b__Tripletree', 'c__amsterdam', 'c__copenhagen',\n",
    "       'c__madrid', 'c__paris', 'c__rome', 'c__sofia', 'c__valletta',\n",
    "       'c__vienna', 'c__vilnius', 'g__Accar Hotels', 'g__Boss Western',\n",
    "       'g__Chillton Worldwide', 'g__Independant', 'g__Morriott International',\n",
    "       'g__Yin Yang']]"
   ]
  },
  {
   "cell_type": "code",
   "execution_count": 9,
   "metadata": {},
   "outputs": [],
   "source": [
    "response = response.drop(['request_id','avatar_id'],axis=1)"
   ]
  },
  {
   "cell_type": "code",
   "execution_count": 11,
   "metadata": {},
   "outputs": [
    {
     "data": {
      "text/html": [
       "<div>\n",
       "<style scoped>\n",
       "    .dataframe tbody tr th:only-of-type {\n",
       "        vertical-align: middle;\n",
       "    }\n",
       "\n",
       "    .dataframe tbody tr th {\n",
       "        vertical-align: top;\n",
       "    }\n",
       "\n",
       "    .dataframe thead th {\n",
       "        text-align: right;\n",
       "    }\n",
       "</style>\n",
       "<table border=\"1\" class=\"dataframe\">\n",
       "  <thead>\n",
       "    <tr style=\"text-align: right;\">\n",
       "      <th></th>\n",
       "      <th>avatar_id</th>\n",
       "      <th>language</th>\n",
       "      <th>city</th>\n",
       "      <th>date</th>\n",
       "      <th>mobile</th>\n",
       "      <th>stock</th>\n",
       "      <th>hotel_id</th>\n",
       "      <th>request_id</th>\n",
       "    </tr>\n",
       "  </thead>\n",
       "  <tbody>\n",
       "    <tr>\n",
       "      <th>0</th>\n",
       "      <td>1</td>\n",
       "      <td>romanian</td>\n",
       "      <td>vilnius</td>\n",
       "      <td>21</td>\n",
       "      <td>False</td>\n",
       "      <td>46</td>\n",
       "      <td>161</td>\n",
       "      <td>1</td>\n",
       "    </tr>\n",
       "    <tr>\n",
       "      <th>1</th>\n",
       "      <td>1</td>\n",
       "      <td>romanian</td>\n",
       "      <td>vilnius</td>\n",
       "      <td>21</td>\n",
       "      <td>False</td>\n",
       "      <td>32</td>\n",
       "      <td>187</td>\n",
       "      <td>1</td>\n",
       "    </tr>\n",
       "    <tr>\n",
       "      <th>2</th>\n",
       "      <td>1</td>\n",
       "      <td>romanian</td>\n",
       "      <td>vilnius</td>\n",
       "      <td>21</td>\n",
       "      <td>False</td>\n",
       "      <td>12</td>\n",
       "      <td>279</td>\n",
       "      <td>1</td>\n",
       "    </tr>\n",
       "    <tr>\n",
       "      <th>3</th>\n",
       "      <td>1</td>\n",
       "      <td>romanian</td>\n",
       "      <td>vilnius</td>\n",
       "      <td>21</td>\n",
       "      <td>False</td>\n",
       "      <td>10</td>\n",
       "      <td>395</td>\n",
       "      <td>1</td>\n",
       "    </tr>\n",
       "    <tr>\n",
       "      <th>4</th>\n",
       "      <td>1</td>\n",
       "      <td>romanian</td>\n",
       "      <td>vilnius</td>\n",
       "      <td>21</td>\n",
       "      <td>False</td>\n",
       "      <td>42</td>\n",
       "      <td>488</td>\n",
       "      <td>1</td>\n",
       "    </tr>\n",
       "  </tbody>\n",
       "</table>\n",
       "</div>"
      ],
      "text/plain": [
       "   avatar_id  language     city  date  mobile  stock  hotel_id  request_id\n",
       "0          1  romanian  vilnius    21   False     46       161           1\n",
       "1          1  romanian  vilnius    21   False     32       187           1\n",
       "2          1  romanian  vilnius    21   False     12       279           1\n",
       "3          1  romanian  vilnius    21   False     10       395           1\n",
       "4          1  romanian  vilnius    21   False     42       488           1"
      ]
     },
     "execution_count": 11,
     "metadata": {},
     "output_type": "execute_result"
    }
   ],
   "source": [
    "index = sample['id']\n",
    "sample = sample.drop(['id','scrape_request_id'],axis=1)\n",
    "sample['request_id']=sample['order_requests']\n",
    "sample=sample.drop(['order_requests'],axis=1)\n",
    "sample.head()"
   ]
  },
  {
   "cell_type": "code",
   "execution_count": 12,
   "metadata": {},
   "outputs": [
    {
     "data": {
      "text/html": [
       "<div>\n",
       "<style scoped>\n",
       "    .dataframe tbody tr th:only-of-type {\n",
       "        vertical-align: middle;\n",
       "    }\n",
       "\n",
       "    .dataframe tbody tr th {\n",
       "        vertical-align: top;\n",
       "    }\n",
       "\n",
       "    .dataframe thead th {\n",
       "        text-align: right;\n",
       "    }\n",
       "</style>\n",
       "<table border=\"1\" class=\"dataframe\">\n",
       "  <thead>\n",
       "    <tr style=\"text-align: right;\">\n",
       "      <th></th>\n",
       "      <th>avatar_id</th>\n",
       "      <th>language</th>\n",
       "      <th>city</th>\n",
       "      <th>date</th>\n",
       "      <th>mobile</th>\n",
       "      <th>stock</th>\n",
       "      <th>hotel_id</th>\n",
       "      <th>request_id</th>\n",
       "      <th>city_num</th>\n",
       "    </tr>\n",
       "  </thead>\n",
       "  <tbody>\n",
       "    <tr>\n",
       "      <th>0</th>\n",
       "      <td>1</td>\n",
       "      <td>romanian</td>\n",
       "      <td>vilnius</td>\n",
       "      <td>21</td>\n",
       "      <td>False</td>\n",
       "      <td>46</td>\n",
       "      <td>161</td>\n",
       "      <td>1</td>\n",
       "      <td>1</td>\n",
       "    </tr>\n",
       "    <tr>\n",
       "      <th>1</th>\n",
       "      <td>1</td>\n",
       "      <td>romanian</td>\n",
       "      <td>vilnius</td>\n",
       "      <td>21</td>\n",
       "      <td>False</td>\n",
       "      <td>32</td>\n",
       "      <td>187</td>\n",
       "      <td>1</td>\n",
       "      <td>1</td>\n",
       "    </tr>\n",
       "    <tr>\n",
       "      <th>2</th>\n",
       "      <td>1</td>\n",
       "      <td>romanian</td>\n",
       "      <td>vilnius</td>\n",
       "      <td>21</td>\n",
       "      <td>False</td>\n",
       "      <td>12</td>\n",
       "      <td>279</td>\n",
       "      <td>1</td>\n",
       "      <td>1</td>\n",
       "    </tr>\n",
       "    <tr>\n",
       "      <th>3</th>\n",
       "      <td>1</td>\n",
       "      <td>romanian</td>\n",
       "      <td>vilnius</td>\n",
       "      <td>21</td>\n",
       "      <td>False</td>\n",
       "      <td>10</td>\n",
       "      <td>395</td>\n",
       "      <td>1</td>\n",
       "      <td>1</td>\n",
       "    </tr>\n",
       "    <tr>\n",
       "      <th>4</th>\n",
       "      <td>1</td>\n",
       "      <td>romanian</td>\n",
       "      <td>vilnius</td>\n",
       "      <td>21</td>\n",
       "      <td>False</td>\n",
       "      <td>42</td>\n",
       "      <td>488</td>\n",
       "      <td>1</td>\n",
       "      <td>1</td>\n",
       "    </tr>\n",
       "  </tbody>\n",
       "</table>\n",
       "</div>"
      ],
      "text/plain": [
       "   avatar_id  language     city  date  mobile  stock  hotel_id  request_id  \\\n",
       "0          1  romanian  vilnius    21   False     46       161           1   \n",
       "1          1  romanian  vilnius    21   False     32       187           1   \n",
       "2          1  romanian  vilnius    21   False     12       279           1   \n",
       "3          1  romanian  vilnius    21   False     10       395           1   \n",
       "4          1  romanian  vilnius    21   False     42       488           1   \n",
       "\n",
       "   city_num  \n",
       "0         1  \n",
       "1         1  \n",
       "2         1  \n",
       "3         1  \n",
       "4         1  "
      ]
     },
     "execution_count": 12,
     "metadata": {},
     "output_type": "execute_result"
    }
   ],
   "source": [
    "samt = sample[['avatar_id','language','city','date']]\n",
    "samt = samt.drop_duplicates()\n",
    "samt['city_num'] = samt.groupby(['avatar_id','city']).cumcount()+1\n",
    "sample = sample.join(samt.set_index(['avatar_id','language','city','date']), on=['avatar_id','language','city','date'],how='left', rsuffix='_right')\n",
    "sample.head()"
   ]
  },
  {
   "cell_type": "code",
   "execution_count": 13,
   "metadata": {},
   "outputs": [],
   "source": [
    "sample = sample.drop(['city'],axis=1)\n",
    "sample = dummy(sample,'language',prefix='l_')\n",
    "sample = sample.join(hotel.set_index('id'), on='hotel_id', validate='m:1')\n",
    "sample = sample.drop(['avatar_id', 'request_id'],axis=1)\n",
    "sample = sample.sort_index()"
   ]
  },
  {
   "cell_type": "code",
   "execution_count": 14,
   "metadata": {},
   "outputs": [],
   "source": [
    "X = response.drop(['price'],axis=1)\n",
    "X_1 = X[X['city_num']==1]\n",
    "X_1 = X_1.drop(['city_num'],axis=1)\n",
    "\n",
    "y = response['price']\n",
    "y_1 = y[X_1.index]\n",
    "\n",
    "sample_1 = sample[sample['city_num']==1]\n",
    "sample_1 = sample_1.drop(['city_num'],axis=1)\n"
   ]
  },
  {
   "cell_type": "code",
   "execution_count": 16,
   "metadata": {},
   "outputs": [
    {
     "name": "stderr",
     "output_type": "stream",
     "text": [
      "/Library/Frameworks/Python.framework/Versions/3.10/lib/python3.10/site-packages/sklearn/linear_model/_stochastic_gradient.py:1527: ConvergenceWarning: Maximum number of iteration reached before convergence. Consider increasing max_iter to improve the fit.\n",
      "  warnings.warn(\n"
     ]
    },
    {
     "data": {
      "text/html": [
       "<style>#sk-container-id-1 {color: black;background-color: white;}#sk-container-id-1 pre{padding: 0;}#sk-container-id-1 div.sk-toggleable {background-color: white;}#sk-container-id-1 label.sk-toggleable__label {cursor: pointer;display: block;width: 100%;margin-bottom: 0;padding: 0.3em;box-sizing: border-box;text-align: center;}#sk-container-id-1 label.sk-toggleable__label-arrow:before {content: \"▸\";float: left;margin-right: 0.25em;color: #696969;}#sk-container-id-1 label.sk-toggleable__label-arrow:hover:before {color: black;}#sk-container-id-1 div.sk-estimator:hover label.sk-toggleable__label-arrow:before {color: black;}#sk-container-id-1 div.sk-toggleable__content {max-height: 0;max-width: 0;overflow: hidden;text-align: left;background-color: #f0f8ff;}#sk-container-id-1 div.sk-toggleable__content pre {margin: 0.2em;color: black;border-radius: 0.25em;background-color: #f0f8ff;}#sk-container-id-1 input.sk-toggleable__control:checked~div.sk-toggleable__content {max-height: 200px;max-width: 100%;overflow: auto;}#sk-container-id-1 input.sk-toggleable__control:checked~label.sk-toggleable__label-arrow:before {content: \"▾\";}#sk-container-id-1 div.sk-estimator input.sk-toggleable__control:checked~label.sk-toggleable__label {background-color: #d4ebff;}#sk-container-id-1 div.sk-label input.sk-toggleable__control:checked~label.sk-toggleable__label {background-color: #d4ebff;}#sk-container-id-1 input.sk-hidden--visually {border: 0;clip: rect(1px 1px 1px 1px);clip: rect(1px, 1px, 1px, 1px);height: 1px;margin: -1px;overflow: hidden;padding: 0;position: absolute;width: 1px;}#sk-container-id-1 div.sk-estimator {font-family: monospace;background-color: #f0f8ff;border: 1px dotted black;border-radius: 0.25em;box-sizing: border-box;margin-bottom: 0.5em;}#sk-container-id-1 div.sk-estimator:hover {background-color: #d4ebff;}#sk-container-id-1 div.sk-parallel-item::after {content: \"\";width: 100%;border-bottom: 1px solid gray;flex-grow: 1;}#sk-container-id-1 div.sk-label:hover label.sk-toggleable__label {background-color: #d4ebff;}#sk-container-id-1 div.sk-serial::before {content: \"\";position: absolute;border-left: 1px solid gray;box-sizing: border-box;top: 0;bottom: 0;left: 50%;z-index: 0;}#sk-container-id-1 div.sk-serial {display: flex;flex-direction: column;align-items: center;background-color: white;padding-right: 0.2em;padding-left: 0.2em;position: relative;}#sk-container-id-1 div.sk-item {position: relative;z-index: 1;}#sk-container-id-1 div.sk-parallel {display: flex;align-items: stretch;justify-content: center;background-color: white;position: relative;}#sk-container-id-1 div.sk-item::before, #sk-container-id-1 div.sk-parallel-item::before {content: \"\";position: absolute;border-left: 1px solid gray;box-sizing: border-box;top: 0;bottom: 0;left: 50%;z-index: -1;}#sk-container-id-1 div.sk-parallel-item {display: flex;flex-direction: column;z-index: 1;position: relative;background-color: white;}#sk-container-id-1 div.sk-parallel-item:first-child::after {align-self: flex-end;width: 50%;}#sk-container-id-1 div.sk-parallel-item:last-child::after {align-self: flex-start;width: 50%;}#sk-container-id-1 div.sk-parallel-item:only-child::after {width: 0;}#sk-container-id-1 div.sk-dashed-wrapped {border: 1px dashed gray;margin: 0 0.4em 0.5em 0.4em;box-sizing: border-box;padding-bottom: 0.4em;background-color: white;}#sk-container-id-1 div.sk-label label {font-family: monospace;font-weight: bold;display: inline-block;line-height: 1.2em;}#sk-container-id-1 div.sk-label-container {text-align: center;}#sk-container-id-1 div.sk-container {/* jupyter's `normalize.less` sets `[hidden] { display: none; }` but bootstrap.min.css set `[hidden] { display: none !important; }` so we also need the `!important` here to be able to override the default hidden behavior on the sphinx rendered scikit-learn.org. See: https://github.com/scikit-learn/scikit-learn/issues/21755 */display: inline-block !important;position: relative;}#sk-container-id-1 div.sk-text-repr-fallback {display: none;}</style><div id=\"sk-container-id-1\" class=\"sk-top-container\"><div class=\"sk-text-repr-fallback\"><pre>SGDRegressor()</pre><b>In a Jupyter environment, please rerun this cell to show the HTML representation or trust the notebook. <br />On GitHub, the HTML representation is unable to render, please try loading this page with nbviewer.org.</b></div><div class=\"sk-container\" hidden><div class=\"sk-item\"><div class=\"sk-estimator sk-toggleable\"><input class=\"sk-toggleable__control sk-hidden--visually\" id=\"sk-estimator-id-1\" type=\"checkbox\" checked><label for=\"sk-estimator-id-1\" class=\"sk-toggleable__label sk-toggleable__label-arrow\">SGDRegressor</label><div class=\"sk-toggleable__content\"><pre>SGDRegressor()</pre></div></div></div></div></div>"
      ],
      "text/plain": [
       "SGDRegressor()"
      ]
     },
     "execution_count": 16,
     "metadata": {},
     "output_type": "execute_result"
    }
   ],
   "source": [
    "from sklearn.linear_model import SGDRegressor\n",
    "\n",
    "cat = SGDRegressor()\n",
    "cat.fit(X,y)"
   ]
  },
  {
   "cell_type": "code",
   "execution_count": 38,
   "metadata": {},
   "outputs": [],
   "source": [
    "!mkdir -p './submission/1911'\n",
    "pred_cat = cat.predict(sample)\n",
    "pred_cat= pd.DataFrame(pred_cat)\n",
    "sub_cat = pd.concat([index,pred_cat],axis=1)\n",
    "sub_cat['index']=sub_cat['id']\n",
    "sub_cat=sub_cat.drop(['id'],axis=1)\n",
    "sub_cat['price']=sub_cat[0]\n",
    "sub_cat=sub_cat.drop(0,axis=1)\n",
    "sub_cat.to_csv('./submission/1911/submission_cat_1300.csv',index=False)"
   ]
  },
  {
   "cell_type": "code",
   "execution_count": 39,
   "metadata": {},
   "outputs": [],
   "source": [
    "!mkdir -p './model/811'\n",
    "cat.save_model('./model/811/cat.cbm')\n",
    "cat_1.save_model('./model/811/cat_1.cbm')"
   ]
  },
  {
   "cell_type": "code",
   "execution_count": 40,
   "metadata": {},
   "outputs": [
    {
     "name": "stderr",
     "output_type": "stream",
     "text": [
      "/Library/Frameworks/Python.framework/Versions/3.10/lib/python3.10/site-packages/catboost/core.py:1419: FutureWarning: iteritems is deprecated and will be removed in a future version. Use .items instead.\n",
      "  self._init_pool(data, label, cat_features, text_features, embedding_features, embedding_features_data, pairs, weight,\n"
     ]
    }
   ],
   "source": [
    "pred_cat= cat.predict(sample)\n",
    "pred_cat= pd.DataFrame(pred_cat)\n",
    "sub_cat = pd.concat([index,pred_cat],axis=1)\n",
    "sub_cat['index']=sub_cat['id']\n",
    "sub_cat=sub_cat.drop(['id'],axis=1)\n",
    "sub_cat['price']=sub_cat[0]\n",
    "sub_cat=sub_cat.drop(0,axis=1)\n",
    "sub_cat.to_csv('./submission/811/submission_cat_1608_seul.csv',index=False)"
   ]
  }
 ],
 "metadata": {
  "kernelspec": {
   "display_name": "Python 3.10.8 64-bit",
   "language": "python",
   "name": "python3"
  },
  "language_info": {
   "codemirror_mode": {
    "name": "ipython",
    "version": 3
   },
   "file_extension": ".py",
   "mimetype": "text/x-python",
   "name": "python",
   "nbconvert_exporter": "python",
   "pygments_lexer": "ipython3",
   "version": "3.10.8"
  },
  "orig_nbformat": 4,
  "vscode": {
   "interpreter": {
    "hash": "aee8b7b246df8f9039afb4144a1f6fd8d2ca17a180786b69acc140d282b71a49"
   }
  }
 },
 "nbformat": 4,
 "nbformat_minor": 2
}
